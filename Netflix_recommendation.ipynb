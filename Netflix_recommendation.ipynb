{
 "cells": [
  {
   "cell_type": "code",
   "execution_count": 1,
   "metadata": {
    "id": "46B2Lke3kAIT"
   },
   "outputs": [],
   "source": [
    "import pandas as pd\n",
    "import numpy as np\n",
    "import matplotlib.pyplot as plt\n",
    "import seaborn as sns\n",
    "import warnings\n",
    "warnings.filterwarnings('ignore')"
   ]
  },
  {
   "cell_type": "code",
   "execution_count": 2,
   "metadata": {
    "id": "pgS-dGJVEJFX"
   },
   "outputs": [],
   "source": [
    "df = pd.read_csv('netflix_titles.csv', encoding='ISO-8859-1')\n"
   ]
  },
  {
   "cell_type": "code",
   "execution_count": 3,
   "metadata": {
    "colab": {
     "base_uri": "https://localhost:8080/",
     "height": 340
    },
    "id": "IeATJXenEttc",
    "outputId": "8d0c04b5-729e-4f77-dc72-de0f7bcd25c1"
   },
   "outputs": [
    {
     "data": {
      "text/html": [
       "<div>\n",
       "<style scoped>\n",
       "    .dataframe tbody tr th:only-of-type {\n",
       "        vertical-align: middle;\n",
       "    }\n",
       "\n",
       "    .dataframe tbody tr th {\n",
       "        vertical-align: top;\n",
       "    }\n",
       "\n",
       "    .dataframe thead th {\n",
       "        text-align: right;\n",
       "    }\n",
       "</style>\n",
       "<table border=\"1\" class=\"dataframe\">\n",
       "  <thead>\n",
       "    <tr style=\"text-align: right;\">\n",
       "      <th></th>\n",
       "      <th>show_id</th>\n",
       "      <th>type</th>\n",
       "      <th>title</th>\n",
       "      <th>director</th>\n",
       "      <th>cast</th>\n",
       "      <th>country</th>\n",
       "      <th>date_added</th>\n",
       "      <th>release_year</th>\n",
       "      <th>rating</th>\n",
       "      <th>duration</th>\n",
       "      <th>...</th>\n",
       "      <th>Unnamed: 16</th>\n",
       "      <th>Unnamed: 17</th>\n",
       "      <th>Unnamed: 18</th>\n",
       "      <th>Unnamed: 19</th>\n",
       "      <th>Unnamed: 20</th>\n",
       "      <th>Unnamed: 21</th>\n",
       "      <th>Unnamed: 22</th>\n",
       "      <th>Unnamed: 23</th>\n",
       "      <th>Unnamed: 24</th>\n",
       "      <th>Unnamed: 25</th>\n",
       "    </tr>\n",
       "  </thead>\n",
       "  <tbody>\n",
       "    <tr>\n",
       "      <th>0</th>\n",
       "      <td>s1</td>\n",
       "      <td>Movie</td>\n",
       "      <td>Dick Johnson Is Dead</td>\n",
       "      <td>Kirsten Johnson</td>\n",
       "      <td>NaN</td>\n",
       "      <td>United States</td>\n",
       "      <td>September 25, 2021</td>\n",
       "      <td>2020</td>\n",
       "      <td>PG-13</td>\n",
       "      <td>90 min</td>\n",
       "      <td>...</td>\n",
       "      <td>NaN</td>\n",
       "      <td>NaN</td>\n",
       "      <td>NaN</td>\n",
       "      <td>NaN</td>\n",
       "      <td>NaN</td>\n",
       "      <td>NaN</td>\n",
       "      <td>NaN</td>\n",
       "      <td>NaN</td>\n",
       "      <td>NaN</td>\n",
       "      <td>NaN</td>\n",
       "    </tr>\n",
       "    <tr>\n",
       "      <th>1</th>\n",
       "      <td>s2</td>\n",
       "      <td>TV Show</td>\n",
       "      <td>Blood &amp; Water</td>\n",
       "      <td>NaN</td>\n",
       "      <td>Ama Qamata, Khosi Ngema, Gail Mabalane, Thaban...</td>\n",
       "      <td>South Africa</td>\n",
       "      <td>September 24, 2021</td>\n",
       "      <td>2021</td>\n",
       "      <td>TV-MA</td>\n",
       "      <td>2 Seasons</td>\n",
       "      <td>...</td>\n",
       "      <td>NaN</td>\n",
       "      <td>NaN</td>\n",
       "      <td>NaN</td>\n",
       "      <td>NaN</td>\n",
       "      <td>NaN</td>\n",
       "      <td>NaN</td>\n",
       "      <td>NaN</td>\n",
       "      <td>NaN</td>\n",
       "      <td>NaN</td>\n",
       "      <td>NaN</td>\n",
       "    </tr>\n",
       "    <tr>\n",
       "      <th>2</th>\n",
       "      <td>s3</td>\n",
       "      <td>TV Show</td>\n",
       "      <td>Ganglands</td>\n",
       "      <td>Julien Leclercq</td>\n",
       "      <td>Sami Bouajila, Tracy Gotoas, Samuel Jouy, Nabi...</td>\n",
       "      <td>NaN</td>\n",
       "      <td>September 24, 2021</td>\n",
       "      <td>2021</td>\n",
       "      <td>TV-MA</td>\n",
       "      <td>1 Season</td>\n",
       "      <td>...</td>\n",
       "      <td>NaN</td>\n",
       "      <td>NaN</td>\n",
       "      <td>NaN</td>\n",
       "      <td>NaN</td>\n",
       "      <td>NaN</td>\n",
       "      <td>NaN</td>\n",
       "      <td>NaN</td>\n",
       "      <td>NaN</td>\n",
       "      <td>NaN</td>\n",
       "      <td>NaN</td>\n",
       "    </tr>\n",
       "    <tr>\n",
       "      <th>3</th>\n",
       "      <td>s4</td>\n",
       "      <td>TV Show</td>\n",
       "      <td>Jailbirds New Orleans</td>\n",
       "      <td>NaN</td>\n",
       "      <td>NaN</td>\n",
       "      <td>NaN</td>\n",
       "      <td>September 24, 2021</td>\n",
       "      <td>2021</td>\n",
       "      <td>TV-MA</td>\n",
       "      <td>1 Season</td>\n",
       "      <td>...</td>\n",
       "      <td>NaN</td>\n",
       "      <td>NaN</td>\n",
       "      <td>NaN</td>\n",
       "      <td>NaN</td>\n",
       "      <td>NaN</td>\n",
       "      <td>NaN</td>\n",
       "      <td>NaN</td>\n",
       "      <td>NaN</td>\n",
       "      <td>NaN</td>\n",
       "      <td>NaN</td>\n",
       "    </tr>\n",
       "    <tr>\n",
       "      <th>4</th>\n",
       "      <td>s5</td>\n",
       "      <td>TV Show</td>\n",
       "      <td>Kota Factory</td>\n",
       "      <td>NaN</td>\n",
       "      <td>Mayur More, Jitendra Kumar, Ranjan Raj, Alam K...</td>\n",
       "      <td>India</td>\n",
       "      <td>September 24, 2021</td>\n",
       "      <td>2021</td>\n",
       "      <td>TV-MA</td>\n",
       "      <td>2 Seasons</td>\n",
       "      <td>...</td>\n",
       "      <td>NaN</td>\n",
       "      <td>NaN</td>\n",
       "      <td>NaN</td>\n",
       "      <td>NaN</td>\n",
       "      <td>NaN</td>\n",
       "      <td>NaN</td>\n",
       "      <td>NaN</td>\n",
       "      <td>NaN</td>\n",
       "      <td>NaN</td>\n",
       "      <td>NaN</td>\n",
       "    </tr>\n",
       "  </tbody>\n",
       "</table>\n",
       "<p>5 rows × 26 columns</p>\n",
       "</div>"
      ],
      "text/plain": [
       "  show_id     type                  title         director  \\\n",
       "0      s1    Movie   Dick Johnson Is Dead  Kirsten Johnson   \n",
       "1      s2  TV Show          Blood & Water              NaN   \n",
       "2      s3  TV Show              Ganglands  Julien Leclercq   \n",
       "3      s4  TV Show  Jailbirds New Orleans              NaN   \n",
       "4      s5  TV Show           Kota Factory              NaN   \n",
       "\n",
       "                                                cast        country  \\\n",
       "0                                                NaN  United States   \n",
       "1  Ama Qamata, Khosi Ngema, Gail Mabalane, Thaban...   South Africa   \n",
       "2  Sami Bouajila, Tracy Gotoas, Samuel Jouy, Nabi...            NaN   \n",
       "3                                                NaN            NaN   \n",
       "4  Mayur More, Jitendra Kumar, Ranjan Raj, Alam K...          India   \n",
       "\n",
       "           date_added  release_year rating   duration  ... Unnamed: 16  \\\n",
       "0  September 25, 2021          2020  PG-13     90 min  ...         NaN   \n",
       "1  September 24, 2021          2021  TV-MA  2 Seasons  ...         NaN   \n",
       "2  September 24, 2021          2021  TV-MA   1 Season  ...         NaN   \n",
       "3  September 24, 2021          2021  TV-MA   1 Season  ...         NaN   \n",
       "4  September 24, 2021          2021  TV-MA  2 Seasons  ...         NaN   \n",
       "\n",
       "  Unnamed: 17  Unnamed: 18  Unnamed: 19  Unnamed: 20  Unnamed: 21  \\\n",
       "0         NaN          NaN          NaN          NaN          NaN   \n",
       "1         NaN          NaN          NaN          NaN          NaN   \n",
       "2         NaN          NaN          NaN          NaN          NaN   \n",
       "3         NaN          NaN          NaN          NaN          NaN   \n",
       "4         NaN          NaN          NaN          NaN          NaN   \n",
       "\n",
       "   Unnamed: 22  Unnamed: 23  Unnamed: 24  Unnamed: 25  \n",
       "0          NaN          NaN          NaN          NaN  \n",
       "1          NaN          NaN          NaN          NaN  \n",
       "2          NaN          NaN          NaN          NaN  \n",
       "3          NaN          NaN          NaN          NaN  \n",
       "4          NaN          NaN          NaN          NaN  \n",
       "\n",
       "[5 rows x 26 columns]"
      ]
     },
     "execution_count": 3,
     "metadata": {},
     "output_type": "execute_result"
    }
   ],
   "source": [
    "df.head()"
   ]
  },
  {
   "cell_type": "code",
   "execution_count": 4,
   "metadata": {
    "colab": {
     "base_uri": "https://localhost:8080/",
     "height": 899
    },
    "id": "8sjIKoULFAD5",
    "outputId": "125d4217-c672-4f4a-8050-acc97dc28e49"
   },
   "outputs": [
    {
     "data": {
      "text/plain": [
       "show_id            0\n",
       "type               0\n",
       "title              0\n",
       "director        2634\n",
       "cast             825\n",
       "country          831\n",
       "date_added        10\n",
       "release_year       0\n",
       "rating             4\n",
       "duration           3\n",
       "listed_in          0\n",
       "description        0\n",
       "Unnamed: 12     8809\n",
       "Unnamed: 13     8809\n",
       "Unnamed: 14     8809\n",
       "Unnamed: 15     8809\n",
       "Unnamed: 16     8809\n",
       "Unnamed: 17     8809\n",
       "Unnamed: 18     8809\n",
       "Unnamed: 19     8809\n",
       "Unnamed: 20     8809\n",
       "Unnamed: 21     8809\n",
       "Unnamed: 22     8809\n",
       "Unnamed: 23     8809\n",
       "Unnamed: 24     8809\n",
       "Unnamed: 25     8809\n",
       "dtype: int64"
      ]
     },
     "execution_count": 4,
     "metadata": {},
     "output_type": "execute_result"
    }
   ],
   "source": [
    "df.isnull().sum()"
   ]
  },
  {
   "cell_type": "code",
   "execution_count": 5,
   "metadata": {
    "colab": {
     "base_uri": "https://localhost:8080/",
     "height": 145
    },
    "id": "WkRdET1VF9TT",
    "outputId": "d2390ffe-be14-4f06-d948-8f8b35954c0f"
   },
   "outputs": [
    {
     "data": {
      "text/html": [
       "<div>\n",
       "<style scoped>\n",
       "    .dataframe tbody tr th:only-of-type {\n",
       "        vertical-align: middle;\n",
       "    }\n",
       "\n",
       "    .dataframe tbody tr th {\n",
       "        vertical-align: top;\n",
       "    }\n",
       "\n",
       "    .dataframe thead th {\n",
       "        text-align: right;\n",
       "    }\n",
       "</style>\n",
       "<table border=\"1\" class=\"dataframe\">\n",
       "  <thead>\n",
       "    <tr style=\"text-align: right;\">\n",
       "      <th></th>\n",
       "      <th>show_id</th>\n",
       "      <th>type</th>\n",
       "      <th>title</th>\n",
       "      <th>director</th>\n",
       "      <th>cast</th>\n",
       "      <th>country</th>\n",
       "      <th>date_added</th>\n",
       "      <th>release_year</th>\n",
       "      <th>rating</th>\n",
       "      <th>duration</th>\n",
       "      <th>...</th>\n",
       "      <th>Unnamed: 16</th>\n",
       "      <th>Unnamed: 17</th>\n",
       "      <th>Unnamed: 18</th>\n",
       "      <th>Unnamed: 19</th>\n",
       "      <th>Unnamed: 20</th>\n",
       "      <th>Unnamed: 21</th>\n",
       "      <th>Unnamed: 22</th>\n",
       "      <th>Unnamed: 23</th>\n",
       "      <th>Unnamed: 24</th>\n",
       "      <th>Unnamed: 25</th>\n",
       "    </tr>\n",
       "  </thead>\n",
       "  <tbody>\n",
       "    <tr>\n",
       "      <th>0</th>\n",
       "      <td>s1</td>\n",
       "      <td>Movie</td>\n",
       "      <td>Dick Johnson Is Dead</td>\n",
       "      <td>Kirsten Johnson</td>\n",
       "      <td>NaN</td>\n",
       "      <td>United States</td>\n",
       "      <td>September 25, 2021</td>\n",
       "      <td>2020</td>\n",
       "      <td>PG-13</td>\n",
       "      <td>90 min</td>\n",
       "      <td>...</td>\n",
       "      <td>NaN</td>\n",
       "      <td>NaN</td>\n",
       "      <td>NaN</td>\n",
       "      <td>NaN</td>\n",
       "      <td>NaN</td>\n",
       "      <td>NaN</td>\n",
       "      <td>NaN</td>\n",
       "      <td>NaN</td>\n",
       "      <td>NaN</td>\n",
       "      <td>NaN</td>\n",
       "    </tr>\n",
       "  </tbody>\n",
       "</table>\n",
       "<p>1 rows × 26 columns</p>\n",
       "</div>"
      ],
      "text/plain": [
       "  show_id   type                 title         director cast        country  \\\n",
       "0      s1  Movie  Dick Johnson Is Dead  Kirsten Johnson  NaN  United States   \n",
       "\n",
       "           date_added  release_year rating duration  ... Unnamed: 16  \\\n",
       "0  September 25, 2021          2020  PG-13   90 min  ...         NaN   \n",
       "\n",
       "  Unnamed: 17  Unnamed: 18  Unnamed: 19  Unnamed: 20  Unnamed: 21  \\\n",
       "0         NaN          NaN          NaN          NaN          NaN   \n",
       "\n",
       "   Unnamed: 22  Unnamed: 23  Unnamed: 24  Unnamed: 25  \n",
       "0          NaN          NaN          NaN          NaN  \n",
       "\n",
       "[1 rows x 26 columns]"
      ]
     },
     "execution_count": 5,
     "metadata": {},
     "output_type": "execute_result"
    }
   ],
   "source": [
    "df.head(1)"
   ]
  },
  {
   "cell_type": "code",
   "execution_count": 6,
   "metadata": {
    "id": "pg69J3uOFxEG"
   },
   "outputs": [],
   "source": [
    "df=df[['title','director','cast','country']]"
   ]
  },
  {
   "cell_type": "code",
   "execution_count": 7,
   "metadata": {
    "colab": {
     "base_uri": "https://localhost:8080/",
     "height": 206
    },
    "id": "h3zwPhPIGLUn",
    "outputId": "87f13a04-6ca5-4021-94df-227d5c699e80"
   },
   "outputs": [
    {
     "data": {
      "text/html": [
       "<div>\n",
       "<style scoped>\n",
       "    .dataframe tbody tr th:only-of-type {\n",
       "        vertical-align: middle;\n",
       "    }\n",
       "\n",
       "    .dataframe tbody tr th {\n",
       "        vertical-align: top;\n",
       "    }\n",
       "\n",
       "    .dataframe thead th {\n",
       "        text-align: right;\n",
       "    }\n",
       "</style>\n",
       "<table border=\"1\" class=\"dataframe\">\n",
       "  <thead>\n",
       "    <tr style=\"text-align: right;\">\n",
       "      <th></th>\n",
       "      <th>title</th>\n",
       "      <th>director</th>\n",
       "      <th>cast</th>\n",
       "      <th>country</th>\n",
       "    </tr>\n",
       "  </thead>\n",
       "  <tbody>\n",
       "    <tr>\n",
       "      <th>0</th>\n",
       "      <td>Dick Johnson Is Dead</td>\n",
       "      <td>Kirsten Johnson</td>\n",
       "      <td>NaN</td>\n",
       "      <td>United States</td>\n",
       "    </tr>\n",
       "    <tr>\n",
       "      <th>1</th>\n",
       "      <td>Blood &amp; Water</td>\n",
       "      <td>NaN</td>\n",
       "      <td>Ama Qamata, Khosi Ngema, Gail Mabalane, Thaban...</td>\n",
       "      <td>South Africa</td>\n",
       "    </tr>\n",
       "    <tr>\n",
       "      <th>2</th>\n",
       "      <td>Ganglands</td>\n",
       "      <td>Julien Leclercq</td>\n",
       "      <td>Sami Bouajila, Tracy Gotoas, Samuel Jouy, Nabi...</td>\n",
       "      <td>NaN</td>\n",
       "    </tr>\n",
       "    <tr>\n",
       "      <th>3</th>\n",
       "      <td>Jailbirds New Orleans</td>\n",
       "      <td>NaN</td>\n",
       "      <td>NaN</td>\n",
       "      <td>NaN</td>\n",
       "    </tr>\n",
       "    <tr>\n",
       "      <th>4</th>\n",
       "      <td>Kota Factory</td>\n",
       "      <td>NaN</td>\n",
       "      <td>Mayur More, Jitendra Kumar, Ranjan Raj, Alam K...</td>\n",
       "      <td>India</td>\n",
       "    </tr>\n",
       "  </tbody>\n",
       "</table>\n",
       "</div>"
      ],
      "text/plain": [
       "                   title         director  \\\n",
       "0   Dick Johnson Is Dead  Kirsten Johnson   \n",
       "1          Blood & Water              NaN   \n",
       "2              Ganglands  Julien Leclercq   \n",
       "3  Jailbirds New Orleans              NaN   \n",
       "4           Kota Factory              NaN   \n",
       "\n",
       "                                                cast        country  \n",
       "0                                                NaN  United States  \n",
       "1  Ama Qamata, Khosi Ngema, Gail Mabalane, Thaban...   South Africa  \n",
       "2  Sami Bouajila, Tracy Gotoas, Samuel Jouy, Nabi...            NaN  \n",
       "3                                                NaN            NaN  \n",
       "4  Mayur More, Jitendra Kumar, Ranjan Raj, Alam K...          India  "
      ]
     },
     "execution_count": 7,
     "metadata": {},
     "output_type": "execute_result"
    }
   ],
   "source": [
    "df.head()"
   ]
  },
  {
   "cell_type": "code",
   "execution_count": 8,
   "metadata": {
    "id": "_pQDciFmGaH6"
   },
   "outputs": [],
   "source": [
    "df.dropna(inplace=True)"
   ]
  },
  {
   "cell_type": "code",
   "execution_count": 9,
   "metadata": {
    "colab": {
     "base_uri": "https://localhost:8080/",
     "height": 210
    },
    "id": "lOQ88F6lGh3E",
    "outputId": "aa3d897b-a56e-4ee2-a162-b56106d1f66a"
   },
   "outputs": [
    {
     "data": {
      "text/plain": [
       "title       0\n",
       "director    0\n",
       "cast        0\n",
       "country     0\n",
       "dtype: int64"
      ]
     },
     "execution_count": 9,
     "metadata": {},
     "output_type": "execute_result"
    }
   ],
   "source": [
    "df.isnull().sum()"
   ]
  },
  {
   "cell_type": "code",
   "execution_count": 10,
   "metadata": {
    "colab": {
     "base_uri": "https://localhost:8080/",
     "height": 206
    },
    "id": "LWYKSHrJGl8f",
    "outputId": "e716d1a2-5892-4c96-c3a7-9e7b162d5a2c"
   },
   "outputs": [
    {
     "data": {
      "text/html": [
       "<div>\n",
       "<style scoped>\n",
       "    .dataframe tbody tr th:only-of-type {\n",
       "        vertical-align: middle;\n",
       "    }\n",
       "\n",
       "    .dataframe tbody tr th {\n",
       "        vertical-align: top;\n",
       "    }\n",
       "\n",
       "    .dataframe thead th {\n",
       "        text-align: right;\n",
       "    }\n",
       "</style>\n",
       "<table border=\"1\" class=\"dataframe\">\n",
       "  <thead>\n",
       "    <tr style=\"text-align: right;\">\n",
       "      <th></th>\n",
       "      <th>title</th>\n",
       "      <th>director</th>\n",
       "      <th>cast</th>\n",
       "      <th>country</th>\n",
       "    </tr>\n",
       "  </thead>\n",
       "  <tbody>\n",
       "    <tr>\n",
       "      <th>7</th>\n",
       "      <td>Sankofa</td>\n",
       "      <td>Haile Gerima</td>\n",
       "      <td>Kofi Ghanaba, Oyafunmike Ogunlano, Alexandra D...</td>\n",
       "      <td>United States, Ghana, Burkina Faso, United Kin...</td>\n",
       "    </tr>\n",
       "    <tr>\n",
       "      <th>8</th>\n",
       "      <td>The Great British Baking Show</td>\n",
       "      <td>Andy Devonshire</td>\n",
       "      <td>Mel Giedroyc, Sue Perkins, Mary Berry, Paul Ho...</td>\n",
       "      <td>United Kingdom</td>\n",
       "    </tr>\n",
       "    <tr>\n",
       "      <th>9</th>\n",
       "      <td>The Starling</td>\n",
       "      <td>Theodore Melfi</td>\n",
       "      <td>Melissa McCarthy, Chris O'Dowd, Kevin Kline, T...</td>\n",
       "      <td>United States</td>\n",
       "    </tr>\n",
       "    <tr>\n",
       "      <th>12</th>\n",
       "      <td>Je Suis Karl</td>\n",
       "      <td>Christian Schwochow</td>\n",
       "      <td>Luna Wedler, Jannis NiewÃ¶hner, Milan Peschel,...</td>\n",
       "      <td>Germany, Czech Republic</td>\n",
       "    </tr>\n",
       "    <tr>\n",
       "      <th>24</th>\n",
       "      <td>Jeans</td>\n",
       "      <td>S. Shankar</td>\n",
       "      <td>Prashanth, Aishwarya Rai Bachchan, Sri Lakshmi...</td>\n",
       "      <td>India</td>\n",
       "    </tr>\n",
       "  </tbody>\n",
       "</table>\n",
       "</div>"
      ],
      "text/plain": [
       "                            title             director  \\\n",
       "7                         Sankofa         Haile Gerima   \n",
       "8   The Great British Baking Show      Andy Devonshire   \n",
       "9                    The Starling       Theodore Melfi   \n",
       "12                   Je Suis Karl  Christian Schwochow   \n",
       "24                          Jeans           S. Shankar   \n",
       "\n",
       "                                                 cast  \\\n",
       "7   Kofi Ghanaba, Oyafunmike Ogunlano, Alexandra D...   \n",
       "8   Mel Giedroyc, Sue Perkins, Mary Berry, Paul Ho...   \n",
       "9   Melissa McCarthy, Chris O'Dowd, Kevin Kline, T...   \n",
       "12  Luna Wedler, Jannis NiewÃ¶hner, Milan Peschel,...   \n",
       "24  Prashanth, Aishwarya Rai Bachchan, Sri Lakshmi...   \n",
       "\n",
       "                                              country  \n",
       "7   United States, Ghana, Burkina Faso, United Kin...  \n",
       "8                                      United Kingdom  \n",
       "9                                       United States  \n",
       "12                            Germany, Czech Republic  \n",
       "24                                              India  "
      ]
     },
     "execution_count": 10,
     "metadata": {},
     "output_type": "execute_result"
    }
   ],
   "source": [
    "df.head()"
   ]
  },
  {
   "cell_type": "code",
   "execution_count": 11,
   "metadata": {
    "colab": {
     "base_uri": "https://localhost:8080/"
    },
    "id": "ZH40cL7rHWwq",
    "outputId": "49b14992-14e0-405b-dab1-a2d43e326afb"
   },
   "outputs": [
    {
     "data": {
      "text/plain": [
       "np.int64(2)"
      ]
     },
     "execution_count": 11,
     "metadata": {},
     "output_type": "execute_result"
    }
   ],
   "source": [
    "df.duplicated().sum()"
   ]
  },
  {
   "cell_type": "code",
   "execution_count": 12,
   "metadata": {
    "id": "7_HyYgy0Iudo"
   },
   "outputs": [],
   "source": [
    "df.drop_duplicates(inplace=True)"
   ]
  },
  {
   "cell_type": "code",
   "execution_count": 13,
   "metadata": {
    "colab": {
     "base_uri": "https://localhost:8080/"
    },
    "id": "Hbu_Jd5uJAJX",
    "outputId": "de9db66c-8179-4bcf-ee15-64b0ed1b9fd6"
   },
   "outputs": [
    {
     "data": {
      "text/plain": [
       "np.int64(0)"
      ]
     },
     "execution_count": 13,
     "metadata": {},
     "output_type": "execute_result"
    }
   ],
   "source": [
    "df.duplicated().sum()"
   ]
  },
  {
   "cell_type": "code",
   "execution_count": 14,
   "metadata": {
    "colab": {
     "base_uri": "https://localhost:8080/",
     "height": 206
    },
    "id": "sW6wrvVYJDtj",
    "outputId": "e7ac599c-c54d-4ebf-fc22-6e8146f8e506"
   },
   "outputs": [
    {
     "data": {
      "text/html": [
       "<div>\n",
       "<style scoped>\n",
       "    .dataframe tbody tr th:only-of-type {\n",
       "        vertical-align: middle;\n",
       "    }\n",
       "\n",
       "    .dataframe tbody tr th {\n",
       "        vertical-align: top;\n",
       "    }\n",
       "\n",
       "    .dataframe thead th {\n",
       "        text-align: right;\n",
       "    }\n",
       "</style>\n",
       "<table border=\"1\" class=\"dataframe\">\n",
       "  <thead>\n",
       "    <tr style=\"text-align: right;\">\n",
       "      <th></th>\n",
       "      <th>title</th>\n",
       "      <th>director</th>\n",
       "      <th>cast</th>\n",
       "      <th>country</th>\n",
       "    </tr>\n",
       "  </thead>\n",
       "  <tbody>\n",
       "    <tr>\n",
       "      <th>7</th>\n",
       "      <td>Sankofa</td>\n",
       "      <td>Haile Gerima</td>\n",
       "      <td>Kofi Ghanaba, Oyafunmike Ogunlano, Alexandra D...</td>\n",
       "      <td>United States, Ghana, Burkina Faso, United Kin...</td>\n",
       "    </tr>\n",
       "    <tr>\n",
       "      <th>8</th>\n",
       "      <td>The Great British Baking Show</td>\n",
       "      <td>Andy Devonshire</td>\n",
       "      <td>Mel Giedroyc, Sue Perkins, Mary Berry, Paul Ho...</td>\n",
       "      <td>United Kingdom</td>\n",
       "    </tr>\n",
       "    <tr>\n",
       "      <th>9</th>\n",
       "      <td>The Starling</td>\n",
       "      <td>Theodore Melfi</td>\n",
       "      <td>Melissa McCarthy, Chris O'Dowd, Kevin Kline, T...</td>\n",
       "      <td>United States</td>\n",
       "    </tr>\n",
       "    <tr>\n",
       "      <th>12</th>\n",
       "      <td>Je Suis Karl</td>\n",
       "      <td>Christian Schwochow</td>\n",
       "      <td>Luna Wedler, Jannis NiewÃ¶hner, Milan Peschel,...</td>\n",
       "      <td>Germany, Czech Republic</td>\n",
       "    </tr>\n",
       "    <tr>\n",
       "      <th>24</th>\n",
       "      <td>Jeans</td>\n",
       "      <td>S. Shankar</td>\n",
       "      <td>Prashanth, Aishwarya Rai Bachchan, Sri Lakshmi...</td>\n",
       "      <td>India</td>\n",
       "    </tr>\n",
       "  </tbody>\n",
       "</table>\n",
       "</div>"
      ],
      "text/plain": [
       "                            title             director  \\\n",
       "7                         Sankofa         Haile Gerima   \n",
       "8   The Great British Baking Show      Andy Devonshire   \n",
       "9                    The Starling       Theodore Melfi   \n",
       "12                   Je Suis Karl  Christian Schwochow   \n",
       "24                          Jeans           S. Shankar   \n",
       "\n",
       "                                                 cast  \\\n",
       "7   Kofi Ghanaba, Oyafunmike Ogunlano, Alexandra D...   \n",
       "8   Mel Giedroyc, Sue Perkins, Mary Berry, Paul Ho...   \n",
       "9   Melissa McCarthy, Chris O'Dowd, Kevin Kline, T...   \n",
       "12  Luna Wedler, Jannis NiewÃ¶hner, Milan Peschel,...   \n",
       "24  Prashanth, Aishwarya Rai Bachchan, Sri Lakshmi...   \n",
       "\n",
       "                                              country  \n",
       "7   United States, Ghana, Burkina Faso, United Kin...  \n",
       "8                                      United Kingdom  \n",
       "9                                       United States  \n",
       "12                            Germany, Czech Republic  \n",
       "24                                              India  "
      ]
     },
     "execution_count": 14,
     "metadata": {},
     "output_type": "execute_result"
    }
   ],
   "source": [
    "df.head()"
   ]
  },
  {
   "cell_type": "code",
   "execution_count": 15,
   "metadata": {
    "id": "T0QWexduJE1A"
   },
   "outputs": [],
   "source": [
    "def convert(obj):\n",
    "  l=[]\n",
    "  for i in obj.split(','):\n",
    "    l.append(i)\n",
    "  return l"
   ]
  },
  {
   "cell_type": "code",
   "execution_count": 16,
   "metadata": {
    "id": "YVscbdX-KNYu"
   },
   "outputs": [],
   "source": [
    "df['cast']=df['cast'].apply(convert)"
   ]
  },
  {
   "cell_type": "code",
   "execution_count": 17,
   "metadata": {
    "colab": {
     "base_uri": "https://localhost:8080/",
     "height": 206
    },
    "id": "L1jRPtqTKQym",
    "outputId": "2add2829-a1f1-452a-b121-3998399ed783"
   },
   "outputs": [
    {
     "data": {
      "text/html": [
       "<div>\n",
       "<style scoped>\n",
       "    .dataframe tbody tr th:only-of-type {\n",
       "        vertical-align: middle;\n",
       "    }\n",
       "\n",
       "    .dataframe tbody tr th {\n",
       "        vertical-align: top;\n",
       "    }\n",
       "\n",
       "    .dataframe thead th {\n",
       "        text-align: right;\n",
       "    }\n",
       "</style>\n",
       "<table border=\"1\" class=\"dataframe\">\n",
       "  <thead>\n",
       "    <tr style=\"text-align: right;\">\n",
       "      <th></th>\n",
       "      <th>title</th>\n",
       "      <th>director</th>\n",
       "      <th>cast</th>\n",
       "      <th>country</th>\n",
       "    </tr>\n",
       "  </thead>\n",
       "  <tbody>\n",
       "    <tr>\n",
       "      <th>7</th>\n",
       "      <td>Sankofa</td>\n",
       "      <td>Haile Gerima</td>\n",
       "      <td>[Kofi Ghanaba,  Oyafunmike Ogunlano,  Alexandr...</td>\n",
       "      <td>United States, Ghana, Burkina Faso, United Kin...</td>\n",
       "    </tr>\n",
       "    <tr>\n",
       "      <th>8</th>\n",
       "      <td>The Great British Baking Show</td>\n",
       "      <td>Andy Devonshire</td>\n",
       "      <td>[Mel Giedroyc,  Sue Perkins,  Mary Berry,  Pau...</td>\n",
       "      <td>United Kingdom</td>\n",
       "    </tr>\n",
       "    <tr>\n",
       "      <th>9</th>\n",
       "      <td>The Starling</td>\n",
       "      <td>Theodore Melfi</td>\n",
       "      <td>[Melissa McCarthy,  Chris O'Dowd,  Kevin Kline...</td>\n",
       "      <td>United States</td>\n",
       "    </tr>\n",
       "    <tr>\n",
       "      <th>12</th>\n",
       "      <td>Je Suis Karl</td>\n",
       "      <td>Christian Schwochow</td>\n",
       "      <td>[Luna Wedler,  Jannis NiewÃ¶hner,  Milan Pesch...</td>\n",
       "      <td>Germany, Czech Republic</td>\n",
       "    </tr>\n",
       "    <tr>\n",
       "      <th>24</th>\n",
       "      <td>Jeans</td>\n",
       "      <td>S. Shankar</td>\n",
       "      <td>[Prashanth,  Aishwarya Rai Bachchan,  Sri Laks...</td>\n",
       "      <td>India</td>\n",
       "    </tr>\n",
       "  </tbody>\n",
       "</table>\n",
       "</div>"
      ],
      "text/plain": [
       "                            title             director  \\\n",
       "7                         Sankofa         Haile Gerima   \n",
       "8   The Great British Baking Show      Andy Devonshire   \n",
       "9                    The Starling       Theodore Melfi   \n",
       "12                   Je Suis Karl  Christian Schwochow   \n",
       "24                          Jeans           S. Shankar   \n",
       "\n",
       "                                                 cast  \\\n",
       "7   [Kofi Ghanaba,  Oyafunmike Ogunlano,  Alexandr...   \n",
       "8   [Mel Giedroyc,  Sue Perkins,  Mary Berry,  Pau...   \n",
       "9   [Melissa McCarthy,  Chris O'Dowd,  Kevin Kline...   \n",
       "12  [Luna Wedler,  Jannis NiewÃ¶hner,  Milan Pesch...   \n",
       "24  [Prashanth,  Aishwarya Rai Bachchan,  Sri Laks...   \n",
       "\n",
       "                                              country  \n",
       "7   United States, Ghana, Burkina Faso, United Kin...  \n",
       "8                                      United Kingdom  \n",
       "9                                       United States  \n",
       "12                            Germany, Czech Republic  \n",
       "24                                              India  "
      ]
     },
     "execution_count": 17,
     "metadata": {},
     "output_type": "execute_result"
    }
   ],
   "source": [
    "df.head()"
   ]
  },
  {
   "cell_type": "code",
   "execution_count": 18,
   "metadata": {
    "id": "sIA9G4KGKR4h"
   },
   "outputs": [],
   "source": [
    "df['country']=df['country'].apply(convert)"
   ]
  },
  {
   "cell_type": "code",
   "execution_count": 19,
   "metadata": {
    "colab": {
     "base_uri": "https://localhost:8080/",
     "height": 206
    },
    "id": "0mtBL8RQKW0m",
    "outputId": "34f76945-c24e-47e9-e95b-c9f6bf4df59f"
   },
   "outputs": [
    {
     "data": {
      "text/html": [
       "<div>\n",
       "<style scoped>\n",
       "    .dataframe tbody tr th:only-of-type {\n",
       "        vertical-align: middle;\n",
       "    }\n",
       "\n",
       "    .dataframe tbody tr th {\n",
       "        vertical-align: top;\n",
       "    }\n",
       "\n",
       "    .dataframe thead th {\n",
       "        text-align: right;\n",
       "    }\n",
       "</style>\n",
       "<table border=\"1\" class=\"dataframe\">\n",
       "  <thead>\n",
       "    <tr style=\"text-align: right;\">\n",
       "      <th></th>\n",
       "      <th>title</th>\n",
       "      <th>director</th>\n",
       "      <th>cast</th>\n",
       "      <th>country</th>\n",
       "    </tr>\n",
       "  </thead>\n",
       "  <tbody>\n",
       "    <tr>\n",
       "      <th>7</th>\n",
       "      <td>Sankofa</td>\n",
       "      <td>Haile Gerima</td>\n",
       "      <td>[Kofi Ghanaba,  Oyafunmike Ogunlano,  Alexandr...</td>\n",
       "      <td>[United States,  Ghana,  Burkina Faso,  United...</td>\n",
       "    </tr>\n",
       "    <tr>\n",
       "      <th>8</th>\n",
       "      <td>The Great British Baking Show</td>\n",
       "      <td>Andy Devonshire</td>\n",
       "      <td>[Mel Giedroyc,  Sue Perkins,  Mary Berry,  Pau...</td>\n",
       "      <td>[United Kingdom]</td>\n",
       "    </tr>\n",
       "    <tr>\n",
       "      <th>9</th>\n",
       "      <td>The Starling</td>\n",
       "      <td>Theodore Melfi</td>\n",
       "      <td>[Melissa McCarthy,  Chris O'Dowd,  Kevin Kline...</td>\n",
       "      <td>[United States]</td>\n",
       "    </tr>\n",
       "    <tr>\n",
       "      <th>12</th>\n",
       "      <td>Je Suis Karl</td>\n",
       "      <td>Christian Schwochow</td>\n",
       "      <td>[Luna Wedler,  Jannis NiewÃ¶hner,  Milan Pesch...</td>\n",
       "      <td>[Germany,  Czech Republic]</td>\n",
       "    </tr>\n",
       "    <tr>\n",
       "      <th>24</th>\n",
       "      <td>Jeans</td>\n",
       "      <td>S. Shankar</td>\n",
       "      <td>[Prashanth,  Aishwarya Rai Bachchan,  Sri Laks...</td>\n",
       "      <td>[India]</td>\n",
       "    </tr>\n",
       "  </tbody>\n",
       "</table>\n",
       "</div>"
      ],
      "text/plain": [
       "                            title             director  \\\n",
       "7                         Sankofa         Haile Gerima   \n",
       "8   The Great British Baking Show      Andy Devonshire   \n",
       "9                    The Starling       Theodore Melfi   \n",
       "12                   Je Suis Karl  Christian Schwochow   \n",
       "24                          Jeans           S. Shankar   \n",
       "\n",
       "                                                 cast  \\\n",
       "7   [Kofi Ghanaba,  Oyafunmike Ogunlano,  Alexandr...   \n",
       "8   [Mel Giedroyc,  Sue Perkins,  Mary Berry,  Pau...   \n",
       "9   [Melissa McCarthy,  Chris O'Dowd,  Kevin Kline...   \n",
       "12  [Luna Wedler,  Jannis NiewÃ¶hner,  Milan Pesch...   \n",
       "24  [Prashanth,  Aishwarya Rai Bachchan,  Sri Laks...   \n",
       "\n",
       "                                              country  \n",
       "7   [United States,  Ghana,  Burkina Faso,  United...  \n",
       "8                                    [United Kingdom]  \n",
       "9                                     [United States]  \n",
       "12                         [Germany,  Czech Republic]  \n",
       "24                                            [India]  "
      ]
     },
     "execution_count": 19,
     "metadata": {},
     "output_type": "execute_result"
    }
   ],
   "source": [
    "df.head()"
   ]
  },
  {
   "cell_type": "code",
   "execution_count": 20,
   "metadata": {
    "id": "MvbVxPm8KX72"
   },
   "outputs": [],
   "source": [
    "df['director']=df['director'].apply(convert)"
   ]
  },
  {
   "cell_type": "code",
   "execution_count": 21,
   "metadata": {
    "id": "RSgNtV5NOtAa"
   },
   "outputs": [],
   "source": [
    "#df['title']=df['title'].apply(lambda x:x.split())"
   ]
  },
  {
   "cell_type": "code",
   "execution_count": 22,
   "metadata": {
    "id": "1bYbDI6FOzoo"
   },
   "outputs": [],
   "source": [
    "#df['title']=df['title'].apply(lambda x:[i.replace(\" \",\"\") for i in x])\n",
    "df['cast']=df['cast'].apply(lambda x:[i.replace(\" \",\"\") for i in x])\n",
    "df['country']=df['country'].apply(lambda x:[i.replace(\" \",\"\") for i in x])\n",
    "df['director']=df['director'].apply(lambda x:[i.replace(\" \",\"\") for i in x])"
   ]
  },
  {
   "cell_type": "code",
   "execution_count": 23,
   "metadata": {
    "colab": {
     "base_uri": "https://localhost:8080/",
     "height": 206
    },
    "id": "GZjYBW6iO4LP",
    "outputId": "48acbc75-f1f5-4b14-d6bc-d968708cce17"
   },
   "outputs": [
    {
     "data": {
      "text/html": [
       "<div>\n",
       "<style scoped>\n",
       "    .dataframe tbody tr th:only-of-type {\n",
       "        vertical-align: middle;\n",
       "    }\n",
       "\n",
       "    .dataframe tbody tr th {\n",
       "        vertical-align: top;\n",
       "    }\n",
       "\n",
       "    .dataframe thead th {\n",
       "        text-align: right;\n",
       "    }\n",
       "</style>\n",
       "<table border=\"1\" class=\"dataframe\">\n",
       "  <thead>\n",
       "    <tr style=\"text-align: right;\">\n",
       "      <th></th>\n",
       "      <th>title</th>\n",
       "      <th>director</th>\n",
       "      <th>cast</th>\n",
       "      <th>country</th>\n",
       "    </tr>\n",
       "  </thead>\n",
       "  <tbody>\n",
       "    <tr>\n",
       "      <th>7</th>\n",
       "      <td>Sankofa</td>\n",
       "      <td>[HaileGerima]</td>\n",
       "      <td>[KofiGhanaba, OyafunmikeOgunlano, AlexandraDua...</td>\n",
       "      <td>[UnitedStates, Ghana, BurkinaFaso, UnitedKingd...</td>\n",
       "    </tr>\n",
       "    <tr>\n",
       "      <th>8</th>\n",
       "      <td>The Great British Baking Show</td>\n",
       "      <td>[AndyDevonshire]</td>\n",
       "      <td>[MelGiedroyc, SuePerkins, MaryBerry, PaulHolly...</td>\n",
       "      <td>[UnitedKingdom]</td>\n",
       "    </tr>\n",
       "    <tr>\n",
       "      <th>9</th>\n",
       "      <td>The Starling</td>\n",
       "      <td>[TheodoreMelfi]</td>\n",
       "      <td>[MelissaMcCarthy, ChrisO'Dowd, KevinKline, Tim...</td>\n",
       "      <td>[UnitedStates]</td>\n",
       "    </tr>\n",
       "    <tr>\n",
       "      <th>12</th>\n",
       "      <td>Je Suis Karl</td>\n",
       "      <td>[ChristianSchwochow]</td>\n",
       "      <td>[LunaWedler, JannisNiewÃ¶hner, MilanPeschel, E...</td>\n",
       "      <td>[Germany, CzechRepublic]</td>\n",
       "    </tr>\n",
       "    <tr>\n",
       "      <th>24</th>\n",
       "      <td>Jeans</td>\n",
       "      <td>[S.Shankar]</td>\n",
       "      <td>[Prashanth, AishwaryaRaiBachchan, SriLakshmi, ...</td>\n",
       "      <td>[India]</td>\n",
       "    </tr>\n",
       "  </tbody>\n",
       "</table>\n",
       "</div>"
      ],
      "text/plain": [
       "                            title              director  \\\n",
       "7                         Sankofa         [HaileGerima]   \n",
       "8   The Great British Baking Show      [AndyDevonshire]   \n",
       "9                    The Starling       [TheodoreMelfi]   \n",
       "12                   Je Suis Karl  [ChristianSchwochow]   \n",
       "24                          Jeans           [S.Shankar]   \n",
       "\n",
       "                                                 cast  \\\n",
       "7   [KofiGhanaba, OyafunmikeOgunlano, AlexandraDua...   \n",
       "8   [MelGiedroyc, SuePerkins, MaryBerry, PaulHolly...   \n",
       "9   [MelissaMcCarthy, ChrisO'Dowd, KevinKline, Tim...   \n",
       "12  [LunaWedler, JannisNiewÃ¶hner, MilanPeschel, E...   \n",
       "24  [Prashanth, AishwaryaRaiBachchan, SriLakshmi, ...   \n",
       "\n",
       "                                              country  \n",
       "7   [UnitedStates, Ghana, BurkinaFaso, UnitedKingd...  \n",
       "8                                     [UnitedKingdom]  \n",
       "9                                      [UnitedStates]  \n",
       "12                           [Germany, CzechRepublic]  \n",
       "24                                            [India]  "
      ]
     },
     "execution_count": 23,
     "metadata": {},
     "output_type": "execute_result"
    }
   ],
   "source": [
    "df.head()"
   ]
  },
  {
   "cell_type": "code",
   "execution_count": 24,
   "metadata": {
    "id": "LIFIw5gLPAuY"
   },
   "outputs": [],
   "source": [
    "df['tags']=df['director']+df['cast']+df['country']"
   ]
  },
  {
   "cell_type": "code",
   "execution_count": 25,
   "metadata": {
    "colab": {
     "base_uri": "https://localhost:8080/",
     "height": 206
    },
    "id": "iMJO_sfxSNM9",
    "outputId": "0420f532-9e7b-40ae-9657-67495c2b7734"
   },
   "outputs": [
    {
     "data": {
      "text/html": [
       "<div>\n",
       "<style scoped>\n",
       "    .dataframe tbody tr th:only-of-type {\n",
       "        vertical-align: middle;\n",
       "    }\n",
       "\n",
       "    .dataframe tbody tr th {\n",
       "        vertical-align: top;\n",
       "    }\n",
       "\n",
       "    .dataframe thead th {\n",
       "        text-align: right;\n",
       "    }\n",
       "</style>\n",
       "<table border=\"1\" class=\"dataframe\">\n",
       "  <thead>\n",
       "    <tr style=\"text-align: right;\">\n",
       "      <th></th>\n",
       "      <th>title</th>\n",
       "      <th>director</th>\n",
       "      <th>cast</th>\n",
       "      <th>country</th>\n",
       "      <th>tags</th>\n",
       "    </tr>\n",
       "  </thead>\n",
       "  <tbody>\n",
       "    <tr>\n",
       "      <th>7</th>\n",
       "      <td>Sankofa</td>\n",
       "      <td>[HaileGerima]</td>\n",
       "      <td>[KofiGhanaba, OyafunmikeOgunlano, AlexandraDua...</td>\n",
       "      <td>[UnitedStates, Ghana, BurkinaFaso, UnitedKingd...</td>\n",
       "      <td>[HaileGerima, KofiGhanaba, OyafunmikeOgunlano,...</td>\n",
       "    </tr>\n",
       "    <tr>\n",
       "      <th>8</th>\n",
       "      <td>The Great British Baking Show</td>\n",
       "      <td>[AndyDevonshire]</td>\n",
       "      <td>[MelGiedroyc, SuePerkins, MaryBerry, PaulHolly...</td>\n",
       "      <td>[UnitedKingdom]</td>\n",
       "      <td>[AndyDevonshire, MelGiedroyc, SuePerkins, Mary...</td>\n",
       "    </tr>\n",
       "    <tr>\n",
       "      <th>9</th>\n",
       "      <td>The Starling</td>\n",
       "      <td>[TheodoreMelfi]</td>\n",
       "      <td>[MelissaMcCarthy, ChrisO'Dowd, KevinKline, Tim...</td>\n",
       "      <td>[UnitedStates]</td>\n",
       "      <td>[TheodoreMelfi, MelissaMcCarthy, ChrisO'Dowd, ...</td>\n",
       "    </tr>\n",
       "    <tr>\n",
       "      <th>12</th>\n",
       "      <td>Je Suis Karl</td>\n",
       "      <td>[ChristianSchwochow]</td>\n",
       "      <td>[LunaWedler, JannisNiewÃ¶hner, MilanPeschel, E...</td>\n",
       "      <td>[Germany, CzechRepublic]</td>\n",
       "      <td>[ChristianSchwochow, LunaWedler, JannisNiewÃ¶h...</td>\n",
       "    </tr>\n",
       "    <tr>\n",
       "      <th>24</th>\n",
       "      <td>Jeans</td>\n",
       "      <td>[S.Shankar]</td>\n",
       "      <td>[Prashanth, AishwaryaRaiBachchan, SriLakshmi, ...</td>\n",
       "      <td>[India]</td>\n",
       "      <td>[S.Shankar, Prashanth, AishwaryaRaiBachchan, S...</td>\n",
       "    </tr>\n",
       "  </tbody>\n",
       "</table>\n",
       "</div>"
      ],
      "text/plain": [
       "                            title              director  \\\n",
       "7                         Sankofa         [HaileGerima]   \n",
       "8   The Great British Baking Show      [AndyDevonshire]   \n",
       "9                    The Starling       [TheodoreMelfi]   \n",
       "12                   Je Suis Karl  [ChristianSchwochow]   \n",
       "24                          Jeans           [S.Shankar]   \n",
       "\n",
       "                                                 cast  \\\n",
       "7   [KofiGhanaba, OyafunmikeOgunlano, AlexandraDua...   \n",
       "8   [MelGiedroyc, SuePerkins, MaryBerry, PaulHolly...   \n",
       "9   [MelissaMcCarthy, ChrisO'Dowd, KevinKline, Tim...   \n",
       "12  [LunaWedler, JannisNiewÃ¶hner, MilanPeschel, E...   \n",
       "24  [Prashanth, AishwaryaRaiBachchan, SriLakshmi, ...   \n",
       "\n",
       "                                              country  \\\n",
       "7   [UnitedStates, Ghana, BurkinaFaso, UnitedKingd...   \n",
       "8                                     [UnitedKingdom]   \n",
       "9                                      [UnitedStates]   \n",
       "12                           [Germany, CzechRepublic]   \n",
       "24                                            [India]   \n",
       "\n",
       "                                                 tags  \n",
       "7   [HaileGerima, KofiGhanaba, OyafunmikeOgunlano,...  \n",
       "8   [AndyDevonshire, MelGiedroyc, SuePerkins, Mary...  \n",
       "9   [TheodoreMelfi, MelissaMcCarthy, ChrisO'Dowd, ...  \n",
       "12  [ChristianSchwochow, LunaWedler, JannisNiewÃ¶h...  \n",
       "24  [S.Shankar, Prashanth, AishwaryaRaiBachchan, S...  "
      ]
     },
     "execution_count": 25,
     "metadata": {},
     "output_type": "execute_result"
    }
   ],
   "source": [
    "df.head()"
   ]
  },
  {
   "cell_type": "code",
   "execution_count": 26,
   "metadata": {
    "id": "cJq81VSESOcC"
   },
   "outputs": [],
   "source": [
    "new_df=df[['title','tags']]"
   ]
  },
  {
   "cell_type": "code",
   "execution_count": 27,
   "metadata": {
    "colab": {
     "base_uri": "https://localhost:8080/",
     "height": 206
    },
    "id": "QGG_B02kSQ28",
    "outputId": "ad0a551d-9d58-4872-c5e4-5cbd15350fab"
   },
   "outputs": [
    {
     "data": {
      "text/html": [
       "<div>\n",
       "<style scoped>\n",
       "    .dataframe tbody tr th:only-of-type {\n",
       "        vertical-align: middle;\n",
       "    }\n",
       "\n",
       "    .dataframe tbody tr th {\n",
       "        vertical-align: top;\n",
       "    }\n",
       "\n",
       "    .dataframe thead th {\n",
       "        text-align: right;\n",
       "    }\n",
       "</style>\n",
       "<table border=\"1\" class=\"dataframe\">\n",
       "  <thead>\n",
       "    <tr style=\"text-align: right;\">\n",
       "      <th></th>\n",
       "      <th>title</th>\n",
       "      <th>tags</th>\n",
       "    </tr>\n",
       "  </thead>\n",
       "  <tbody>\n",
       "    <tr>\n",
       "      <th>7</th>\n",
       "      <td>Sankofa</td>\n",
       "      <td>[HaileGerima, KofiGhanaba, OyafunmikeOgunlano,...</td>\n",
       "    </tr>\n",
       "    <tr>\n",
       "      <th>8</th>\n",
       "      <td>The Great British Baking Show</td>\n",
       "      <td>[AndyDevonshire, MelGiedroyc, SuePerkins, Mary...</td>\n",
       "    </tr>\n",
       "    <tr>\n",
       "      <th>9</th>\n",
       "      <td>The Starling</td>\n",
       "      <td>[TheodoreMelfi, MelissaMcCarthy, ChrisO'Dowd, ...</td>\n",
       "    </tr>\n",
       "    <tr>\n",
       "      <th>12</th>\n",
       "      <td>Je Suis Karl</td>\n",
       "      <td>[ChristianSchwochow, LunaWedler, JannisNiewÃ¶h...</td>\n",
       "    </tr>\n",
       "    <tr>\n",
       "      <th>24</th>\n",
       "      <td>Jeans</td>\n",
       "      <td>[S.Shankar, Prashanth, AishwaryaRaiBachchan, S...</td>\n",
       "    </tr>\n",
       "  </tbody>\n",
       "</table>\n",
       "</div>"
      ],
      "text/plain": [
       "                            title  \\\n",
       "7                         Sankofa   \n",
       "8   The Great British Baking Show   \n",
       "9                    The Starling   \n",
       "12                   Je Suis Karl   \n",
       "24                          Jeans   \n",
       "\n",
       "                                                 tags  \n",
       "7   [HaileGerima, KofiGhanaba, OyafunmikeOgunlano,...  \n",
       "8   [AndyDevonshire, MelGiedroyc, SuePerkins, Mary...  \n",
       "9   [TheodoreMelfi, MelissaMcCarthy, ChrisO'Dowd, ...  \n",
       "12  [ChristianSchwochow, LunaWedler, JannisNiewÃ¶h...  \n",
       "24  [S.Shankar, Prashanth, AishwaryaRaiBachchan, S...  "
      ]
     },
     "execution_count": 27,
     "metadata": {},
     "output_type": "execute_result"
    }
   ],
   "source": [
    "new_df.head()"
   ]
  },
  {
   "cell_type": "code",
   "execution_count": 28,
   "metadata": {
    "id": "0syZ3K3ISSSw"
   },
   "outputs": [],
   "source": [
    "new_df['tags']=new_df['tags'].apply(lambda x:\" \".join(x))"
   ]
  },
  {
   "cell_type": "code",
   "execution_count": 29,
   "metadata": {
    "colab": {
     "base_uri": "https://localhost:8080/",
     "height": 458
    },
    "id": "S6lLpL73SpQ3",
    "outputId": "3d3438d8-4552-4a03-b79a-286b49fd5d6b"
   },
   "outputs": [
    {
     "data": {
      "text/plain": [
       "7       HaileGerima KofiGhanaba OyafunmikeOgunlano Ale...\n",
       "8       AndyDevonshire MelGiedroyc SuePerkins MaryBerr...\n",
       "9       TheodoreMelfi MelissaMcCarthy ChrisO'Dowd Kevi...\n",
       "12      ChristianSchwochow LunaWedler JannisNiewÃ¶hner...\n",
       "24      S.Shankar Prashanth AishwaryaRaiBachchan SriLa...\n",
       "                              ...                        \n",
       "8804    RubenFleischer JesseEisenberg WoodyHarrelson E...\n",
       "8805    PeterHewitt TimAllen CourteneyCox ChevyChase K...\n",
       "8806    MozezSingh VickyKaushal Sarah-JaneDias Raaghav...\n",
       "8807    YeonSang-ho ShinHyun-been JeonYeo-bin GooKyo-h...\n",
       "8808    SusanneBier BradleyCooper JenniferLawrence Tob...\n",
       "Name: tags, Length: 5336, dtype: object"
      ]
     },
     "execution_count": 29,
     "metadata": {},
     "output_type": "execute_result"
    }
   ],
   "source": [
    "new_df['tags']"
   ]
  },
  {
   "cell_type": "code",
   "execution_count": 30,
   "metadata": {
    "colab": {
     "base_uri": "https://localhost:8080/",
     "height": 206
    },
    "id": "Vs2JDI7mSsBp",
    "outputId": "c0957cf1-0cdd-4d46-c151-17772a180b53"
   },
   "outputs": [
    {
     "data": {
      "text/html": [
       "<div>\n",
       "<style scoped>\n",
       "    .dataframe tbody tr th:only-of-type {\n",
       "        vertical-align: middle;\n",
       "    }\n",
       "\n",
       "    .dataframe tbody tr th {\n",
       "        vertical-align: top;\n",
       "    }\n",
       "\n",
       "    .dataframe thead th {\n",
       "        text-align: right;\n",
       "    }\n",
       "</style>\n",
       "<table border=\"1\" class=\"dataframe\">\n",
       "  <thead>\n",
       "    <tr style=\"text-align: right;\">\n",
       "      <th></th>\n",
       "      <th>title</th>\n",
       "      <th>tags</th>\n",
       "    </tr>\n",
       "  </thead>\n",
       "  <tbody>\n",
       "    <tr>\n",
       "      <th>7</th>\n",
       "      <td>Sankofa</td>\n",
       "      <td>HaileGerima KofiGhanaba OyafunmikeOgunlano Ale...</td>\n",
       "    </tr>\n",
       "    <tr>\n",
       "      <th>8</th>\n",
       "      <td>The Great British Baking Show</td>\n",
       "      <td>AndyDevonshire MelGiedroyc SuePerkins MaryBerr...</td>\n",
       "    </tr>\n",
       "    <tr>\n",
       "      <th>9</th>\n",
       "      <td>The Starling</td>\n",
       "      <td>TheodoreMelfi MelissaMcCarthy ChrisO'Dowd Kevi...</td>\n",
       "    </tr>\n",
       "    <tr>\n",
       "      <th>12</th>\n",
       "      <td>Je Suis Karl</td>\n",
       "      <td>ChristianSchwochow LunaWedler JannisNiewÃ¶hner...</td>\n",
       "    </tr>\n",
       "    <tr>\n",
       "      <th>24</th>\n",
       "      <td>Jeans</td>\n",
       "      <td>S.Shankar Prashanth AishwaryaRaiBachchan SriLa...</td>\n",
       "    </tr>\n",
       "  </tbody>\n",
       "</table>\n",
       "</div>"
      ],
      "text/plain": [
       "                            title  \\\n",
       "7                         Sankofa   \n",
       "8   The Great British Baking Show   \n",
       "9                    The Starling   \n",
       "12                   Je Suis Karl   \n",
       "24                          Jeans   \n",
       "\n",
       "                                                 tags  \n",
       "7   HaileGerima KofiGhanaba OyafunmikeOgunlano Ale...  \n",
       "8   AndyDevonshire MelGiedroyc SuePerkins MaryBerr...  \n",
       "9   TheodoreMelfi MelissaMcCarthy ChrisO'Dowd Kevi...  \n",
       "12  ChristianSchwochow LunaWedler JannisNiewÃ¶hner...  \n",
       "24  S.Shankar Prashanth AishwaryaRaiBachchan SriLa...  "
      ]
     },
     "execution_count": 30,
     "metadata": {},
     "output_type": "execute_result"
    }
   ],
   "source": [
    "new_df.head()"
   ]
  },
  {
   "cell_type": "code",
   "execution_count": 31,
   "metadata": {
    "id": "kiepUmtFSyI3"
   },
   "outputs": [],
   "source": [
    "new_df['tags']=new_df['tags'].apply(lambda x:x.lower())"
   ]
  },
  {
   "cell_type": "code",
   "execution_count": 32,
   "metadata": {
    "colab": {
     "base_uri": "https://localhost:8080/",
     "height": 206
    },
    "id": "aoGjHKM0S3MC",
    "outputId": "0069f198-5ccd-4567-e638-ec5e47c2b891"
   },
   "outputs": [
    {
     "data": {
      "text/html": [
       "<div>\n",
       "<style scoped>\n",
       "    .dataframe tbody tr th:only-of-type {\n",
       "        vertical-align: middle;\n",
       "    }\n",
       "\n",
       "    .dataframe tbody tr th {\n",
       "        vertical-align: top;\n",
       "    }\n",
       "\n",
       "    .dataframe thead th {\n",
       "        text-align: right;\n",
       "    }\n",
       "</style>\n",
       "<table border=\"1\" class=\"dataframe\">\n",
       "  <thead>\n",
       "    <tr style=\"text-align: right;\">\n",
       "      <th></th>\n",
       "      <th>title</th>\n",
       "      <th>tags</th>\n",
       "    </tr>\n",
       "  </thead>\n",
       "  <tbody>\n",
       "    <tr>\n",
       "      <th>7</th>\n",
       "      <td>Sankofa</td>\n",
       "      <td>hailegerima kofighanaba oyafunmikeogunlano ale...</td>\n",
       "    </tr>\n",
       "    <tr>\n",
       "      <th>8</th>\n",
       "      <td>The Great British Baking Show</td>\n",
       "      <td>andydevonshire melgiedroyc sueperkins maryberr...</td>\n",
       "    </tr>\n",
       "    <tr>\n",
       "      <th>9</th>\n",
       "      <td>The Starling</td>\n",
       "      <td>theodoremelfi melissamccarthy chriso'dowd kevi...</td>\n",
       "    </tr>\n",
       "    <tr>\n",
       "      <th>12</th>\n",
       "      <td>Je Suis Karl</td>\n",
       "      <td>christianschwochow lunawedler jannisniewã¶hner...</td>\n",
       "    </tr>\n",
       "    <tr>\n",
       "      <th>24</th>\n",
       "      <td>Jeans</td>\n",
       "      <td>s.shankar prashanth aishwaryaraibachchan srila...</td>\n",
       "    </tr>\n",
       "  </tbody>\n",
       "</table>\n",
       "</div>"
      ],
      "text/plain": [
       "                            title  \\\n",
       "7                         Sankofa   \n",
       "8   The Great British Baking Show   \n",
       "9                    The Starling   \n",
       "12                   Je Suis Karl   \n",
       "24                          Jeans   \n",
       "\n",
       "                                                 tags  \n",
       "7   hailegerima kofighanaba oyafunmikeogunlano ale...  \n",
       "8   andydevonshire melgiedroyc sueperkins maryberr...  \n",
       "9   theodoremelfi melissamccarthy chriso'dowd kevi...  \n",
       "12  christianschwochow lunawedler jannisniewã¶hner...  \n",
       "24  s.shankar prashanth aishwaryaraibachchan srila...  "
      ]
     },
     "execution_count": 32,
     "metadata": {},
     "output_type": "execute_result"
    }
   ],
   "source": [
    "new_df.head()"
   ]
  },
  {
   "cell_type": "code",
   "execution_count": 33,
   "metadata": {
    "id": "zJ4rXSZRW9uZ"
   },
   "outputs": [],
   "source": [
    "from sklearn.feature_extraction.text import CountVectorizer\n",
    "cv=CountVectorizer(max_features=5000,stop_words='english')"
   ]
  },
  {
   "cell_type": "code",
   "execution_count": 34,
   "metadata": {
    "id": "ajNXOKvdX8HV"
   },
   "outputs": [],
   "source": [
    "vectors=cv.fit_transform(new_df['tags']).toarray()"
   ]
  },
  {
   "cell_type": "code",
   "execution_count": 35,
   "metadata": {
    "colab": {
     "base_uri": "https://localhost:8080/"
    },
    "id": "pxiDOh-eYGHU",
    "outputId": "2b515304-c5bc-4889-9649-0552f64d322d"
   },
   "outputs": [
    {
     "data": {
      "text/plain": [
       "array([[0, 0, 0, ..., 0, 0, 0],\n",
       "       [0, 0, 0, ..., 0, 0, 0],\n",
       "       [0, 0, 0, ..., 0, 0, 0],\n",
       "       ...,\n",
       "       [0, 0, 0, ..., 0, 0, 0],\n",
       "       [0, 0, 0, ..., 0, 0, 0],\n",
       "       [0, 0, 0, ..., 0, 0, 0]], shape=(5336, 5000))"
      ]
     },
     "execution_count": 35,
     "metadata": {},
     "output_type": "execute_result"
    }
   ],
   "source": [
    "vectors"
   ]
  },
  {
   "cell_type": "code",
   "execution_count": 36,
   "metadata": {
    "colab": {
     "base_uri": "https://localhost:8080/"
    },
    "id": "N66MZozaYMSM",
    "outputId": "e62a0e90-c4ff-4648-8fab-3d80fa503471"
   },
   "outputs": [
    {
     "data": {
      "text/plain": [
       "array([0, 0, 0, ..., 0, 0, 0], shape=(5000,))"
      ]
     },
     "execution_count": 36,
     "metadata": {},
     "output_type": "execute_result"
    }
   ],
   "source": [
    "vectors[0]"
   ]
  },
  {
   "cell_type": "code",
   "execution_count": 37,
   "metadata": {
    "colab": {
     "base_uri": "https://localhost:8080/"
    },
    "id": "LZnZa8uzYN0g",
    "outputId": "711abff8-71b4-4f18-de39-c066f054ed56"
   },
   "outputs": [
    {
     "data": {
      "text/plain": [
       "array(['50cent', 'aakashdabhade', 'aamirbashir', ..., 'ztã¼rk', 'zãºã',\n",
       "       'zä'], shape=(5000,), dtype=object)"
      ]
     },
     "execution_count": 37,
     "metadata": {},
     "output_type": "execute_result"
    }
   ],
   "source": [
    "cv.get_feature_names_out()"
   ]
  },
  {
   "cell_type": "code",
   "execution_count": 38,
   "metadata": {
    "id": "QrSXIldkYSAx"
   },
   "outputs": [],
   "source": [
    "import nltk"
   ]
  },
  {
   "cell_type": "code",
   "execution_count": 39,
   "metadata": {
    "id": "FcsaRKFlYoHh"
   },
   "outputs": [],
   "source": [
    "from nltk import PorterStemmer\n",
    "ps=PorterStemmer()"
   ]
  },
  {
   "cell_type": "code",
   "execution_count": 40,
   "metadata": {
    "id": "nj98c8DWYu0B"
   },
   "outputs": [],
   "source": [
    "def stem(text):\n",
    "  l=[]\n",
    "  for i in text.split():\n",
    "    l.append(ps.stem(i))\n",
    "  return \" \".join(l)"
   ]
  },
  {
   "cell_type": "code",
   "execution_count": 41,
   "metadata": {
    "id": "yF4GtkFxZFNA"
   },
   "outputs": [],
   "source": [
    "new_df['tags']=new_df['tags'].apply(stem)"
   ]
  },
  {
   "cell_type": "code",
   "execution_count": 42,
   "metadata": {
    "colab": {
     "base_uri": "https://localhost:8080/",
     "height": 206
    },
    "id": "2hQrUBs_ZHaA",
    "outputId": "4bfe5f87-b456-423c-e276-c7e314671efb"
   },
   "outputs": [
    {
     "data": {
      "text/html": [
       "<div>\n",
       "<style scoped>\n",
       "    .dataframe tbody tr th:only-of-type {\n",
       "        vertical-align: middle;\n",
       "    }\n",
       "\n",
       "    .dataframe tbody tr th {\n",
       "        vertical-align: top;\n",
       "    }\n",
       "\n",
       "    .dataframe thead th {\n",
       "        text-align: right;\n",
       "    }\n",
       "</style>\n",
       "<table border=\"1\" class=\"dataframe\">\n",
       "  <thead>\n",
       "    <tr style=\"text-align: right;\">\n",
       "      <th></th>\n",
       "      <th>title</th>\n",
       "      <th>tags</th>\n",
       "    </tr>\n",
       "  </thead>\n",
       "  <tbody>\n",
       "    <tr>\n",
       "      <th>7</th>\n",
       "      <td>Sankofa</td>\n",
       "      <td>hailegerima kofighanaba oyafunmikeogunlano ale...</td>\n",
       "    </tr>\n",
       "    <tr>\n",
       "      <th>8</th>\n",
       "      <td>The Great British Baking Show</td>\n",
       "      <td>andydevonshir melgiedroyc sueperkin maryberri ...</td>\n",
       "    </tr>\n",
       "    <tr>\n",
       "      <th>9</th>\n",
       "      <td>The Starling</td>\n",
       "      <td>theodoremelfi melissamccarthi chriso'dowd kevi...</td>\n",
       "    </tr>\n",
       "    <tr>\n",
       "      <th>12</th>\n",
       "      <td>Je Suis Karl</td>\n",
       "      <td>christianschwochow lunawedl jannisniewã¶hn mil...</td>\n",
       "    </tr>\n",
       "    <tr>\n",
       "      <th>24</th>\n",
       "      <td>Jeans</td>\n",
       "      <td>s.shankar prashanth aishwaryaraibachchan srila...</td>\n",
       "    </tr>\n",
       "  </tbody>\n",
       "</table>\n",
       "</div>"
      ],
      "text/plain": [
       "                            title  \\\n",
       "7                         Sankofa   \n",
       "8   The Great British Baking Show   \n",
       "9                    The Starling   \n",
       "12                   Je Suis Karl   \n",
       "24                          Jeans   \n",
       "\n",
       "                                                 tags  \n",
       "7   hailegerima kofighanaba oyafunmikeogunlano ale...  \n",
       "8   andydevonshir melgiedroyc sueperkin maryberri ...  \n",
       "9   theodoremelfi melissamccarthi chriso'dowd kevi...  \n",
       "12  christianschwochow lunawedl jannisniewã¶hn mil...  \n",
       "24  s.shankar prashanth aishwaryaraibachchan srila...  "
      ]
     },
     "execution_count": 42,
     "metadata": {},
     "output_type": "execute_result"
    }
   ],
   "source": [
    "new_df.head()"
   ]
  },
  {
   "cell_type": "code",
   "execution_count": 43,
   "metadata": {
    "id": "mJk_UFfTZJbi"
   },
   "outputs": [],
   "source": [
    "from sklearn.metrics.pairwise import cosine_similarity"
   ]
  },
  {
   "cell_type": "code",
   "execution_count": 44,
   "metadata": {
    "id": "Ga290PawaxG-"
   },
   "outputs": [],
   "source": [
    "similarity=cosine_similarity(vectors)"
   ]
  },
  {
   "cell_type": "code",
   "execution_count": 45,
   "metadata": {
    "id": "GclKdP4ea8RL"
   },
   "outputs": [],
   "source": [
    "def recommend(movie):\n",
    "  movie_index=new_df[new_df['title']==movie].index[0]   # movie search\n",
    "  distances=similarity[movie_index] # movie similarity search\n",
    "  movies_list=sorted(list(enumerate(distances)),reverse=True,key=lambda x:x[1])[1:6]  # sorting ; enumerate -> tuple\n",
    "  for i in movies_list:\n",
    "    print(new_df.iloc[i[0]].title)"
   ]
  },
  {
   "cell_type": "code",
   "execution_count": 46,
   "metadata": {
    "colab": {
     "base_uri": "https://localhost:8080/"
    },
    "id": "N7dAtxoGb6t5",
    "outputId": "a9033a17-730b-4a5e-9d4b-8ec2d4b4db99"
   },
   "outputs": [
    {
     "name": "stdout",
     "output_type": "stream",
     "text": [
      "Jaws 2\n",
      "If I Leave Here Tomorrow: A Film About Lynyrd Skynyrd\n",
      "A Champion Heart\n",
      "Janoskians: Untold and Untrue\n",
      "Snervous Tyler Oakley\n"
     ]
    }
   ],
   "source": [
    "recommend('The Starling')"
   ]
  },
  {
   "cell_type": "code",
   "execution_count": 47,
   "metadata": {
    "colab": {
     "base_uri": "https://localhost:8080/"
    },
    "id": "3kmJrhB7cAmL",
    "outputId": "2028317f-335b-4810-e500-ee751f185a5f"
   },
   "outputs": [
    {
     "name": "stdout",
     "output_type": "stream",
     "text": [
      "If I Leave Here Tomorrow: A Film About Lynyrd Skynyrd\n",
      "A Champion Heart\n",
      "Janoskians: Untold and Untrue\n",
      "Snervous Tyler Oakley\n",
      "The Old Ways\n"
     ]
    }
   ],
   "source": [
    "recommend('Once Upon a Time in Mumbaai')"
   ]
  },
  {
   "cell_type": "code",
   "execution_count": 48,
   "metadata": {
    "colab": {
     "base_uri": "https://localhost:8080/"
    },
    "id": "n_FGa1WEcMCM",
    "outputId": "76a0bd00-d300-47b4-e40c-1bf353cf1559"
   },
   "outputs": [
    {
     "name": "stdout",
     "output_type": "stream",
     "text": [
      "The Kindergarten Teacher\n",
      "If I Leave Here Tomorrow: A Film About Lynyrd Skynyrd\n",
      "A Champion Heart\n",
      "Janoskians: Untold and Untrue\n",
      "Snervous Tyler Oakley\n"
     ]
    }
   ],
   "source": [
    "recommend('Naruto the Movie: Ninja Clash in the Land of Snow')"
   ]
  },
  {
   "cell_type": "code",
   "execution_count": 49,
   "metadata": {
    "id": "98x7RNifcY8l"
   },
   "outputs": [],
   "source": [
    "import pickle"
   ]
  },
  {
   "cell_type": "code",
   "execution_count": 52,
   "metadata": {},
   "outputs": [],
   "source": [
    "pickle.dump(new_df,open('movie.pkl','wb'))"
   ]
  },
  {
   "cell_type": "code",
   "execution_count": 54,
   "metadata": {},
   "outputs": [],
   "source": [
    "pickle.dump(new_df.to_dict(),open('movie_dict.pkl','wb'))"
   ]
  },
  {
   "cell_type": "code",
   "execution_count": 55,
   "metadata": {},
   "outputs": [],
   "source": [
    "pickle.dump(similarity,open('similarity.pkl','wb'))"
   ]
  },
  {
   "cell_type": "code",
   "execution_count": null,
   "metadata": {},
   "outputs": [],
   "source": []
  }
 ],
 "metadata": {
  "colab": {
   "provenance": []
  },
  "kernelspec": {
   "display_name": "Python 3 (ipykernel)",
   "language": "python",
   "name": "python3"
  },
  "language_info": {
   "codemirror_mode": {
    "name": "ipython",
    "version": 3
   },
   "file_extension": ".py",
   "mimetype": "text/x-python",
   "name": "python",
   "nbconvert_exporter": "python",
   "pygments_lexer": "ipython3",
   "version": "3.13.1"
  }
 },
 "nbformat": 4,
 "nbformat_minor": 4
}
